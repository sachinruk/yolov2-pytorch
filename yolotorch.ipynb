{
 "cells": [
  {
   "cell_type": "code",
   "execution_count": 1,
   "metadata": {},
   "outputs": [],
   "source": [
    "import matplotlib.pyplot as plt\n",
    "from collections import defaultdict\n",
    "import math\n",
    "# import struct\n",
    "# from skimage import transform\n",
    "import itertools, operator\n",
    "from torch.optim.lr_scheduler import _LRScheduler\n",
    "\n",
    "import glob\n",
    "import pickle\n",
    "\n",
    "import numpy as np\n",
    "# from PIL import Image\n",
    "import torch\n",
    "from torch import nn\n",
    "# import torch.nn.functional as F\n",
    "\n",
    "# from torch.autograd import Variable\n",
    "\n",
    "import cv2\n",
    "\n",
    "from data_process import *\n",
    "from model import *\n",
    "# from regionLoss import *\n",
    "from bbox import *\n",
    "from draw import *\n",
    "from v3loss import Yolov3Loss\n",
    "device = torch.device(\"cuda:0\" if torch.cuda.is_available() else \"cpu\")\n",
    "\n",
    "%matplotlib inline"
   ]
  },
  {
   "cell_type": "code",
   "execution_count": 2,
   "metadata": {},
   "outputs": [],
   "source": [
    "classes =  np.array(['sheep', 'horse', 'bicycle', 'bottle', 'cow', 'sofa', 'car', 'dog', 'cat', 'person', 'train', 'diningtable', 'aeroplane', 'bus', 'pottedplant', 'tvmonitor', 'chair', 'bird', 'boat', 'motorbike'])"
   ]
  },
  {
   "cell_type": "code",
   "execution_count": 3,
   "metadata": {},
   "outputs": [],
   "source": [
    "def get_map(output, labels, n_true, iou_thresh):\n",
    "    nms_boxes, nms_classes = get_nms_boxes(output, 0.5, 0.5, meta)\n",
    "    mean_avg_prec = calc_map(labels, nms_boxes, nms_classes, n_true.numpy(), iou_thresh)\n",
    "    return mean_avg_prec\n",
    "\n",
    "def train(model, train_data, opt, iou_thresh, loss_fn):\n",
    "    train_images = train_data[\"image\"].cuda().float()\n",
    "    train_labels = train_data[\"bboxes\"].cuda().float()\n",
    "    train_n_true = train_data[\"n_true\"]\n",
    "    opt.zero_grad()\n",
    "    train_output = model(train_images)\n",
    "    loss = loss_fn(train_output, train_labels, train_n_true)\n",
    "    loss.backward()\n",
    "    opt.step()\n",
    "    train_map = get_map(train_output, train_labels, train_n_true, iou_thresh)\n",
    "    return loss, train_map"
   ]
  },
  {
   "cell_type": "code",
   "execution_count": 4,
   "metadata": {},
   "outputs": [],
   "source": [
    "def validate(model, test_data, iou_thresh, loss_fn):\n",
    "    test_images = test_data[\"image\"].cuda().float()\n",
    "    test_labels = test_data[\"bboxes\"].cuda().float()\n",
    "    test_n_true = test_data[\"n_true\"]\n",
    "\n",
    "    test_output = model(test_images)\n",
    "    test_loss = loss_fn(test_output, test_labels, test_n_true)\n",
    "    test_map = get_map(test_output, test_labels, test_n_true, iou_thresh)\n",
    "    return test_loss, test_map\n",
    "        "
   ]
  },
  {
   "cell_type": "markdown",
   "metadata": {},
   "source": [
    "Set all meta parameters."
   ]
  },
  {
   "cell_type": "code",
   "execution_count": 5,
   "metadata": {},
   "outputs": [],
   "source": [
    "batch_size = 8\n",
    "meta = defaultdict()\n",
    "meta['anchors'] = 5\n",
    "meta['classes'] = 20\n",
    "meta['batch_size'] = batch_size\n",
    "meta['threshold'] = 0.6\n",
    "meta['anchor_bias'] = np.array([1.08,1.19,  3.42,4.41,  6.63,11.38,  9.42,5.11,  16.62,10.52])\n",
    "meta['scale_no_obj'] = 1\n",
    "meta['scale_coords'] = 1\n",
    "meta['scale_class'] = 1\n",
    "meta['scale_obj']  = 5\n",
    "meta['iteration'] = 0 "
   ]
  },
  {
   "cell_type": "markdown",
   "metadata": {},
   "source": [
    "Increase Learning rate to see what learning rate would be most effective."
   ]
  },
  {
   "cell_type": "code",
   "execution_count": 6,
   "metadata": {},
   "outputs": [
    {
     "name": "stdout",
     "output_type": "stream",
     "text": [
      "iteration 0 loss 3.8318822383880615 map 0.0\n",
      "iteration 20 loss 2.817347526550293 map 0.0\n",
      "iteration 40 loss 2.347586154937744 map 0.0\n",
      "iteration 60 loss 3.439117908477783 map 0.0\n",
      "iteration 80 loss 2.7455742359161377 map 0.0\n",
      "iteration 100 loss 2.3640036582946777 map 0.0\n",
      "iteration 120 loss 2.4262681007385254 map 0.0\n",
      "iteration 140 loss 2.4859423637390137 map 0.0\n",
      "iteration 160 loss 2.4979615211486816 map 0.0\n",
      "iteration 180 loss 3.050687074661255 map 0.0\n",
      "iteration 200 loss 3.418060302734375 map 0.0\n",
      "iteration 220 loss 2.5984978675842285 map 0.0\n",
      "iteration 240 loss 3.2048797607421875 map 0.0\n",
      "iteration 260 loss 2.977407217025757 map 0.0\n",
      "iteration 280 loss 2.5987389087677 map 0.0\n",
      "iteration 300 loss 2.750260353088379 map 0.0\n",
      "iteration 320 loss 2.7596752643585205 map 0.0\n",
      "iteration 340 loss 2.7671029567718506 map 0.0\n",
      "iteration 360 loss 2.7923812866210938 map 0.0\n",
      "iteration 380 loss 2.2260990142822266 map 0.0\n",
      "iteration 400 loss 2.6814892292022705 map 0.0\n",
      "iteration 420 loss 2.3907995223999023 map 0.0\n",
      "iteration 440 loss 2.553877353668213 map 0.0\n",
      "iteration 460 loss 3.0729451179504395 map 0.0\n",
      "iteration 480 loss 2.8421385288238525 map 0.0\n",
      "iteration 500 loss 2.7704641819000244 map 0.0\n",
      "iteration 520 loss 2.809997081756592 map 0.0\n",
      "iteration 540 loss 3.1370198726654053 map 0.0\n",
      "iteration 560 loss 3.2747302055358887 map 0.0\n",
      "iteration 580 loss 4.333626747131348 map 0.0\n",
      "iteration 600 loss 3.547412395477295 map 0.0\n"
     ]
    },
    {
     "name": "stderr",
     "output_type": "stream",
     "text": [
      "Exception ignored in: <bound method _DataLoaderIter.__del__ of <torch.utils.data.dataloader._DataLoaderIter object at 0x7f8f95224f98>>\n",
      "Traceback (most recent call last):\n",
      "  File \"/root/miniconda3/lib/python3.6/site-packages/torch/utils/data/dataloader.py\", line 399, in __del__\n",
      "    self._shutdown_workers()\n",
      "  File \"/root/miniconda3/lib/python3.6/site-packages/torch/utils/data/dataloader.py\", line 378, in _shutdown_workers\n",
      "    self.worker_result_queue.get()\n",
      "  File \"/root/miniconda3/lib/python3.6/multiprocessing/queues.py\", line 337, in get\n",
      "    return _ForkingPickler.loads(res)\n",
      "  File \"/root/miniconda3/lib/python3.6/site-packages/torch/multiprocessing/reductions.py\", line 151, in rebuild_storage_fd\n",
      "    fd = df.detach()\n",
      "  File \"/root/miniconda3/lib/python3.6/multiprocessing/resource_sharer.py\", line 57, in detach\n",
      "    with _resource_sharer.get_connection(self._id) as conn:\n",
      "  File \"/root/miniconda3/lib/python3.6/multiprocessing/resource_sharer.py\", line 87, in get_connection\n",
      "    c = Client(address, authkey=process.current_process().authkey)\n",
      "  File \"/root/miniconda3/lib/python3.6/multiprocessing/connection.py\", line 493, in Client\n",
      "    answer_challenge(c, authkey)\n",
      "  File \"/root/miniconda3/lib/python3.6/multiprocessing/connection.py\", line 737, in answer_challenge\n",
      "    response = connection.recv_bytes(256)        # reject large message\n",
      "  File \"/root/miniconda3/lib/python3.6/multiprocessing/connection.py\", line 216, in recv_bytes\n",
      "    buf = self._recv_bytes(maxlength)\n",
      "  File \"/root/miniconda3/lib/python3.6/multiprocessing/connection.py\", line 407, in _recv_bytes\n",
      "    buf = self._recv(4)\n",
      "  File \"/root/miniconda3/lib/python3.6/multiprocessing/connection.py\", line 379, in _recv\n",
      "    chunk = read(handle, remaining)\n",
      "ConnectionResetError: [Errno 104] Connection reset by peer\n"
     ]
    },
    {
     "data": {
      "image/png": "[encoded data removed]",
      "text/plain": [
       "<Figure size 432x288 with 1 Axes>"
      ]
     },
     "metadata": {
      "needs_background": "light"
     },
     "output_type": "display_data"
    },
    {
     "name": "stdout",
     "output_type": "stream",
     "text": [
      "CPU times: user 41.5 s, sys: 26.1 s, total: 1min 7s\n",
      "Wall time: 1min 7s\n"
     ]
    }
   ],
   "source": [
    "%%time\n",
    "batch_size = 10\n",
    "mini_train_loader, len_train = get_data('./data/train1000.pickle', \n",
    "                                        shuffle=True, \n",
    "                                        batch_size=batch_size,\n",
    "                                        num_workers=4)\n",
    "meta['iterations_per_epoch'] = len(mini_train_loader)\n",
    "\n",
    "# get the loss and model functions\n",
    "model = Yolov2().cuda()\n",
    "output_mapping_shape = (13, 13)\n",
    "loss = Yolov3Loss()\n",
    "loss.set_params(output_mapping_shape, meta)\n",
    "\n",
    "# set up a learning rate scheduler\n",
    "start_lr = 0.00001\n",
    "end_lr = 10\n",
    "optim = torch.optim.Adam(model.parameters(), start_lr)\n",
    "lr_decay = (end_lr/start_lr)** (1./meta['iterations_per_epoch'])\n",
    "sched = torch.optim.lr_scheduler.ExponentialLR(optim, lr_decay)\n",
    "\n",
    "losses = []\n",
    "lrs = []\n",
    "best_loss = 10**10\n",
    "meta['iteration'] = 0\n",
    "\n",
    "for i, train_data in enumerate(mini_train_loader):\n",
    "    sched.step()\n",
    "\n",
    "    loss_val, acc_map = train(model, train_data, optim, 0.3, loss.loss)\n",
    "\n",
    "    lrs.append(sched.get_lr()[0])\n",
    "    losses.append(loss_val)\n",
    "    if loss_val < best_loss:\n",
    "        best_loss = loss_val\n",
    "\n",
    "    if loss_val > 4*best_loss:\n",
    "        break\n",
    "\n",
    "    if meta['iteration']%20 == 0:\n",
    "        print (\"iteration {0} loss {1} map {2}\".format(meta['iteration'], loss_val, acc_map[0]))\n",
    "    meta['iteration'] += batch_size\n",
    "    \n",
    "plt.plot(lrs, losses, 'b-')\n",
    "plt.xscale('log')\n",
    "plt.xlabel('Learning Rate')\n",
    "plt.ylabel('Loss')\n",
    "plt.title('Loss against LR')\n",
    "plt.show()"
   ]
  },
  {
   "cell_type": "markdown",
   "metadata": {},
   "source": [
    "Train the model now with chosen learning rate:"
   ]
  },
  {
   "cell_type": "code",
   "execution_count": null,
   "metadata": {},
   "outputs": [],
   "source": [
    "# # get the loss and model functions\n",
    "# model = Yolov2().cuda()\n",
    "# output_mapping_shape = (13, 13)\n",
    "# loss = Yolov3Loss()\n",
    "# loss.set_params(output_mapping_shape, meta)\n",
    "\n",
    "# # optimiser and (step) scheduler\n",
    "# optim = torch.optim.Adam(model.parameters(), lr=1e-3)\n",
    "# scheduler = torch.optim.lr_scheduler.StepLR(optim, step_size=3, gamma=0.9)\n",
    "\n",
    "# # data generator\n",
    "# train_loader, len_train = get_data('./data/train.pickle', \n",
    "#                                         shuffle=True, \n",
    "#                                         batch_size=batch_size,\n",
    "#                                         num_workers=4)\n",
    "# meta['iterations_per_epoch'] = len(train_loader)\n",
    "\n",
    "epochs = 100\n",
    "# losses = []\n",
    "# maps = []\n",
    "for epoch in range(1, epochs):\n",
    "    scheduler.step()\n",
    "    for i, train_data in enumerate(train_loader):\n",
    "        loss_val, acc_map = train(model, train_data, optim, 0.3, loss.loss)\n",
    "        losses.append(loss_val)\n",
    "        maps.append(acc_map)\n",
    "    if epoch == 1:\n",
    "        loss.set_early_loss(False)\n",
    "\n",
    "    print (\"iteration {0} loss {1} map {2}\".format(epoch, loss_val, acc_map[0]))\n",
    "    with open('train_log','a+') as f:\n",
    "        f.write(\"iteration {0} loss {1} map {2}\\n\".format(epoch, loss_val, acc_map[0]))\n",
    "        \n",
    "    if (epoch+1) % 10 == 0:\n",
    "        torch.save(model.state_dict(), 'checkpoint_{0}.pth'.format(epoch))"
   ]
  },
  {
   "cell_type": "code",
   "execution_count": 16,
   "metadata": {},
   "outputs": [
    {
     "data": {
      "image/png": "[encoded data removed]",
      "text/plain": [
       "<Figure size 432x288 with 1 Axes>"
      ]
     },
     "metadata": {
      "needs_background": "light"
     },
     "output_type": "display_data"
    },
    {
     "data": {
      "image/png": "[encoded data removed]",
      "text/plain": [
       "<Figure size 432x288 with 1 Axes>"
      ]
     },
     "metadata": {
      "needs_background": "light"
     },
     "output_type": "display_data"
    }
   ],
   "source": [
    "plt.plot(losses)\n",
    "plt.show()\n",
    "plt.plot(maps)\n",
    "plt.show()"
   ]
  },
  {
   "cell_type": "code",
   "execution_count": 28,
   "metadata": {},
   "outputs": [
    {
     "data": {
      "text/plain": [
       "100"
      ]
     },
     "execution_count": 28,
     "metadata": {},
     "output_type": "execute_result"
    }
   ],
   "source": [
    "len(train_loader)"
   ]
  },
  {
   "cell_type": "code",
   "execution_count": 29,
   "metadata": {},
   "outputs": [
    {
     "data": {
      "text/plain": [
       "10"
      ]
     },
     "execution_count": 29,
     "metadata": {},
     "output_type": "execute_result"
    }
   ],
   "source": [
    "train_loader.batch_size"
   ]
  },
  {
   "cell_type": "code",
   "execution_count": 27,
   "metadata": {},
   "outputs": [
    {
     "ename": "TypeError",
     "evalue": "loss() missing 3 required positional arguments: 'output', 'labels', and 'n_truths'",
     "output_type": "error",
     "traceback": [
      "\u001b[0;31m---------------------------------------------------------------------------\u001b[0m",
      "\u001b[0;31mTypeError\u001b[0m                                 Traceback (most recent call last)",
      "\u001b[0;32m<ipython-input-27-3db3320f3f36>\u001b[0m in \u001b[0;36m<module>\u001b[0;34m\u001b[0m\n\u001b[0;32m----> 1\u001b[0;31m \u001b[0mloss2\u001b[0m \u001b[0;34m=\u001b[0m \u001b[0mloss\u001b[0m\u001b[0;34m.\u001b[0m\u001b[0mloss\u001b[0m\u001b[0;34m(\u001b[0m\u001b[0mearly_loss\u001b[0m\u001b[0;34m=\u001b[0m\u001b[0;32mFalse\u001b[0m\u001b[0;34m)\u001b[0m\u001b[0;34m\u001b[0m\u001b[0m\n\u001b[0m",
      "\u001b[0;31mTypeError\u001b[0m: loss() missing 3 required positional arguments: 'output', 'labels', and 'n_truths'"
     ]
    }
   ],
   "source": [
    "loss2 = lambda x: loss.loss(*x, early_loss=False)"
   ]
  },
  {
   "cell_type": "code",
   "execution_count": 19,
   "metadata": {},
   "outputs": [
    {
     "data": {
      "text/plain": [
       "defaultdict(None,\n",
       "            {'anchors': 5,\n",
       "             'classes': 20,\n",
       "             'batch_size': 10,\n",
       "             'threshold': 0.6,\n",
       "             'anchor_bias': array([ 1.08,  1.19,  3.42,  4.41,  6.63, 11.38,  9.42,  5.11, 16.62,\n",
       "                    10.52]),\n",
       "             'scale_no_obj': 1,\n",
       "             'scale_coords': 1,\n",
       "             'scale_class': 1,\n",
       "             'scale_obj': 5,\n",
       "             'iteration': 730,\n",
       "             'iterations_per_epoch': 100})"
      ]
     },
     "execution_count": 19,
     "metadata": {},
     "output_type": "execute_result"
    }
   ],
   "source": [
    "meta"
   ]
  },
  {
   "cell_type": "code",
   "execution_count": null,
   "metadata": {},
   "outputs": [],
   "source": [
    "class CosineAnnealingLR(_LRScheduler):\n",
    "\n",
    "    def __init__(self, optimizer, T_max, eta_min=0, last_epoch=-1):\n",
    "        self.T_max = T_max\n",
    "        self.eta_min = eta_min\n",
    "        super(CosineAnnealingLR, self).__init__(optimizer, last_epoch)\n",
    "\n",
    "    def get_lr(self):\n",
    "        return [self.eta_min + (base_lr - self.eta_min) *\n",
    "                (1 + math.cos(math.pi * self.last_epoch / self.T_max)) / 2\n",
    "                for base_lr in self.base_lrs]\n"
   ]
  },
  {
   "cell_type": "code",
   "execution_count": null,
   "metadata": {},
   "outputs": [],
   "source": [
    "def train_last_layers(model, lr_est, n_cycles=1, epochs_per_cycle=1, cycle_mult=1):\n",
    "#     sample_size = 1920\n",
    "    train_loader, test_loader = get_data(batch_size=batch_size)\n",
    "\n",
    "    metrics = {'train':{'loss':[], 'acc': []}, 'test': {'loss': [], 'acc': []}}\n",
    "    # No Layer Groups\n",
    "    opt = get_optimizer(model, [lr_est])\n",
    "    \n",
    "    meta['iteration'] = 0\n",
    "    for cycle in range(n_cycles):\n",
    "                \n",
    "        # resetting the lr to original\n",
    "        param_groups = opt.param_groups\n",
    "        for param_group in param_groups:\n",
    "            param_group['lr'] = lr_est\n",
    "\n",
    "        cycle_len = meta['iterations_per_epoch'] * epochs_per_cycle\n",
    "        sched = CosineAnnealingLR(opt, cycle_len)\n",
    "\n",
    "        for epoch in range(epochs_per_cycle):\n",
    "            \n",
    "            for i, train_data in enumerate(train_loader):\n",
    "                if train_data[\"image\"].size(0) != batch_size:\n",
    "                    break\n",
    "                \n",
    "                sched.step()\n",
    "                loss, acc_map = train(model, train_data, opt, 0.3)\n",
    "                loss_val = loss.data[0]\n",
    "                acc_val = acc_map.data[0]\n",
    "                metrics['train']['loss'].append(loss_val)\n",
    "                metrics['train']['acc'].append(acc_val)\n",
    "                \n",
    "                meta['iteration'] += batch_size\n",
    "                \n",
    "                if meta['iteration']%(4*batch_size) == 0:\n",
    "                    total_test_loss = []\n",
    "                    total_test_acc = []\n",
    "                    for i, test_data in enumerate(test_loader):\n",
    "                        if test_data[\"image\"].size(0) != batch_size:\n",
    "                            break\n",
    "                        \n",
    "                        test_loss, test_acc = validate(model, test_data, 0.3)\n",
    "                        total_test_loss.append(test_loss.data[0])\n",
    "                        total_test_acc.append(test_acc.data[0])\n",
    "                    \n",
    "                    test_loss = np.mean(total_test_loss)\n",
    "                    test_acc = np.mean(total_test_acc)\n",
    "                    \n",
    "                    metrics['test']['loss'].append(test_loss)\n",
    "                    metrics['test']['acc'].append(test_acc)\n",
    "                    print (\"Iteration {0} Train Loss {1} Acc {2} Test Loss {3} Acc {4}\".format(\n",
    "                        meta['iteration'], loss_val, acc_val, test_loss, test_acc))\n",
    "                    \n",
    "                        \n",
    "        epochs_per_cycle *= cycle_mult\n",
    "    \n",
    "    return model, metrics\n"
   ]
  },
  {
   "cell_type": "code",
   "execution_count": null,
   "metadata": {
    "scrolled": true
   },
   "outputs": [],
   "source": [
    "model = get_model()"
   ]
  },
  {
   "cell_type": "code",
   "execution_count": null,
   "metadata": {},
   "outputs": [],
   "source": [
    "metrics = train_last_layers(model, start_lr)"
   ]
  },
  {
   "cell_type": "code",
   "execution_count": null,
   "metadata": {},
   "outputs": [],
   "source": [
    "model.cpu()"
   ]
  },
  {
   "cell_type": "code",
   "execution_count": null,
   "metadata": {},
   "outputs": [],
   "source": [
    "torch.save(model, open(\"model_2\", \"wb\"))"
   ]
  },
  {
   "cell_type": "code",
   "execution_count": null,
   "metadata": {},
   "outputs": [],
   "source": [
    "model = torch.load(open(\"model\", \"rb\"))"
   ]
  },
  {
   "cell_type": "code",
   "execution_count": null,
   "metadata": {},
   "outputs": [],
   "source": [
    "train_loader, test_loader = get_data(batch_size=batch_size)\n",
    "for i, test_data in enumerate(test_loader):\n",
    "    test_images = Variable(test_data[\"image\"], requires_grad=False).cuda().float()\n",
    "    test_labels = Variable(test_data[\"bboxes\"], requires_grad=False).cuda().float()\n",
    "    test_n_true = test_data[\"n_true\"]\n",
    "    break"
   ]
  },
  {
   "cell_type": "code",
   "execution_count": null,
   "metadata": {},
   "outputs": [],
   "source": [
    "test_output = model(test_images)"
   ]
  },
  {
   "cell_type": "code",
   "execution_count": null,
   "metadata": {},
   "outputs": [],
   "source": [
    "test_output"
   ]
  },
  {
   "cell_type": "code",
   "execution_count": null,
   "metadata": {},
   "outputs": [],
   "source": [
    "nnms = get_nms_boxes(test_output, 0.24, 0.3)"
   ]
  },
  {
   "cell_type": "code",
   "execution_count": null,
   "metadata": {},
   "outputs": [],
   "source": [
    "draw_bbox_torch({\"image\": test_images[0].cpu().data, \"bboxes\": test_labels[0].cpu().data})"
   ]
  },
  {
   "cell_type": "code",
   "execution_count": null,
   "metadata": {},
   "outputs": [],
   "source": [
    "draw_bbox_nms(test_images[0].cpu(), nnms[0].cpu())"
   ]
  },
  {
   "cell_type": "code",
   "execution_count": null,
   "metadata": {},
   "outputs": [],
   "source": [
    "torch.max(nnms[0][0][5:], 0)"
   ]
  },
  {
   "cell_type": "code",
   "execution_count": null,
   "metadata": {},
   "outputs": [],
   "source": [
    "classes[7]"
   ]
  },
  {
   "cell_type": "code",
   "execution_count": null,
   "metadata": {},
   "outputs": [],
   "source": [
    "list(model.children())"
   ]
  },
  {
   "cell_type": "code",
   "execution_count": null,
   "metadata": {},
   "outputs": [],
   "source": [
    "list(model.children())[4].weight.data"
   ]
  },
  {
   "cell_type": "code",
   "execution_count": null,
   "metadata": {},
   "outputs": [],
   "source": [
    "model2 = get_model()"
   ]
  },
  {
   "cell_type": "code",
   "execution_count": null,
   "metadata": {},
   "outputs": [],
   "source": [
    "list(model2.children())[4].weight.data"
   ]
  },
  {
   "cell_type": "code",
   "execution_count": null,
   "metadata": {},
   "outputs": [],
   "source": [
    "list(model.children())[0].weight.data"
   ]
  },
  {
   "cell_type": "code",
   "execution_count": null,
   "metadata": {},
   "outputs": [],
   "source": [
    "def train_all_layers(model, lrs, layer_groups, n_cycles=1, epochs_per_cycle=1, cycle_mult=1):\n",
    "    \n",
    "    train_loader, test_loader = get_data()\n",
    "    opt = get_optimizer(model, [lr_est/100, lr_est/10, lr_est], [16, 36, 43])\n",
    "    metrics = {'train':{'loss':[], 'acc': []}, 'test': {'loss': [], 'acc': []}}\n",
    "    # No Layer Groups\n",
    "    opt = get_optimizer(model, [lr_est])\n",
    "    \n",
    "    meta['iteration'] = 0\n",
    "    for cycle in range(n_cycles):\n",
    "                \n",
    "        # resetting the lr to original\n",
    "        param_groups = opt.param_groups\n",
    "        for param_group in param_groups:\n",
    "            param_group['lr'] = lr_est\n",
    "\n",
    "        cycle_len = meta['iterations_per_epoch'] * epochs_per_cycle\n",
    "        sched = CosineAnnealingLR(opt, cycle_len)\n",
    "\n",
    "        for epoch in range(epochs_per_cycle):\n",
    "            \n",
    "            for i, train_data in enumerate(train_loader):\n",
    "                if train_data[\"image\"].size(0) != batch_size:\n",
    "                    break\n",
    "                \n",
    "                sched.step()\n",
    "                loss, acc_map = train(model, train_data, opt)\n",
    "                loss_val = loss.data[0]\n",
    "                acc_val = acc_map.data[0]\n",
    "                metrics['train']['loss'].append(loss_val)\n",
    "                metrics['train']['acc'].append(acc_val)\n",
    "                \n",
    "                meta['iteration'] += batch_size\n",
    "                \n",
    "                if meta['iteration']%100 == 0:\n",
    "                    total_test_loss = []\n",
    "                    total_test_acc = []\n",
    "                    for i, test_data in enumerate(test_loader):\n",
    "                        if test_data[\"image\"].size(0) != batch_size:\n",
    "                            break\n",
    "                        \n",
    "                        test_loss, test_acc = validate(model, test_data)\n",
    "                        total_test_loss.append(test_loss.data[0])\n",
    "                        total_test_acc.append(test_acc.data[0])\n",
    "                    \n",
    "                    test_loss = np.mean(total_test_loss)\n",
    "                    test_acc = np.mean(total_test_acc)\n",
    "                    \n",
    "                    metrics['test']['loss'].append(test_loss)\n",
    "                    metrics['test']['acc'].append(test_acc)\n",
    "                    print (\"Iteration {0} Train Loss {1} Acc {2} Test Loss {3} Acc {4}\".format(\n",
    "                        meta['iteration'], loss_val, acc_val, test_loss, test_acc))\n",
    "                    \n",
    "                        \n",
    "        epochs_per_cycle *= cycle_mult\n",
    "    \n",
    "    return model, metrics\n",
    "\n",
    "    "
   ]
  },
  {
   "cell_type": "code",
   "execution_count": null,
   "metadata": {},
   "outputs": [],
   "source": [
    "epochs = 10\n",
    "\n",
    "for epoch in range(epochs):\n",
    "#     import pdb; pdb.set_trace()\n",
    "    for i, train_data in enumerate(train_loader):\n",
    "        if train_data[\"image\"].size(0) != batch_size:\n",
    "            continue\n",
    "        train_images = Variable(train_data[\"image\"], requires_grad=False).cuda().float()\n",
    "        train_labels = Variable(train_data[\"bboxes\"], requires_grad=False).cuda().float()\n",
    "        train_n_true = train_data[\"n_true\"]\n",
    "        \n",
    "        sched.step()\n",
    "        optimizer.zero_grad()\n",
    "        \n",
    "        current_lr = optimizer.param_groups[0]['lr']\n",
    "        updated_lr = current_lr * 1.0223509385032303\n",
    "        print (\"current lr -- updated lr\", current_lr, updated_lr)\n",
    "        optimizer.param_groups[0]['lr'] = updated_lr\n",
    "        train_output = model(train_images)\n",
    "        \n",
    "        try:\n",
    "            loss = Yolov2Loss(train_output, train_labels, train_n_true, meta)\n",
    "        except Exception as e:\n",
    "            print (iteration, i)\n",
    "            raise e\n",
    "        loss.backward()\n",
    "        optimizer.step()\n",
    "        lr_vals.append(updated_lr)\n",
    "        loss_vals.append(loss.data[0])\n",
    "        \n",
    "        iteration += batch_size\n",
    "        \n",
    "        if iteration%2 == 0:\n",
    "            \n",
    "            test_total = 0\n",
    "            test_total_map = torch.cuda.FloatTensor([0])\n",
    "            for j, test_data in enumerate(test_loader):\n",
    "                test_images = Variable(test_data[\"image\"]).cuda().float()\n",
    "                test_labels = Variable(test_data[\"bboxes\"]).cuda().float()\n",
    "                test_n_true = test_data[\"n_true\"]\n",
    "                \n",
    "                test_output = model(test_images)\n",
    "                test_nms = get_nms_detections(test_output, 0.4, 0.4)\n",
    "                \n",
    "                test_map = calc_map(test_labels, test_nms, test_n_true.numpy())\n",
    "                test_total_map += test_map.data\n",
    "                test_total += 1\n",
    "            test_avg_map = test_total_map / test_total\n",
    "            \n",
    "            print (\"Iteration {} loss {} accuracy {}\".format(iteration, loss.data[0], test_avg_map))"
   ]
  },
  {
   "cell_type": "code",
   "execution_count": null,
   "metadata": {},
   "outputs": [],
   "source": [
    "for i, b in enumerate(train_loader):\n",
    "    img = b['image']\n",
    "    bboxes = b['bboxes']\n",
    "    break\n",
    "\n",
    "draw_bbox_torch({\"image\": img[0], \"bboxes\":bboxes[0]})\n",
    "\n",
    "out = model(Variable(img.float().cuda()))\n",
    "\n",
    "iteration = 1\n",
    "loss = Yolov2Loss(out, Variable(bboxes).cuda().float(), b['n_true'].numpy())\n",
    "\n",
    "t = get_nms_detections(out)\n",
    "\n",
    "mean_ap = calc_map(Variable(bboxes).float().cuda(), t, b['n_true'].numpy())"
   ]
  }
 ],
 "metadata": {
  "kernelspec": {
   "display_name": "Python 3",
   "language": "python",
   "name": "python3"
  },
  "language_info": {
   "codemirror_mode": {
    "name": "ipython",
    "version": 3
   },
   "file_extension": ".py",
   "mimetype": "text/x-python",
   "name": "python",
   "nbconvert_exporter": "python",
   "pygments_lexer": "ipython3",
   "version": "3.6.5"
  }
 },
 "nbformat": 4,
 "nbformat_minor": 2
}
